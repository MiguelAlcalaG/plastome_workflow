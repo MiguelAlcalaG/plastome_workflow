{
 "cells": [
  {
   "cell_type": "code",
   "execution_count": 26,
   "id": "1c0b0083",
   "metadata": {
    "scrolled": true
   },
   "outputs": [
    {
     "name": "stdout",
     "output_type": "stream",
     "text": [
      "This script compares two plastome annotations from two .tsv files\n",
      "Masdevalia_coccinea_anotaciones1.tsv\n",
      "Laelia_anceps1_1_anotacion1.tsv\n",
      "Hace falta en el segundo archivo en referencia al primero\n",
      "['ndhF', 'ndhC', 'ndhA', 'ndhK', 'ndhH', 'ycf1', 'rpl16', 'ndhI', 'rps12', 'ndhG']\n",
      "Hace falta en el primer archivo en referencia al segundo\n",
      "['Repeat']\n"
     ]
    }
   ],
   "source": [
    "import os\n",
    "import subprocess\n",
    "\n",
    "print(\"This script compares two plastome annotations from two .tsv files\")\n",
    "\n",
    "os.chdir(\"/home/epidendrum/Downloads\")\n",
    "\n",
    "nameoffile1 = input()\n",
    "nameoffile2 = input()\n",
    "\n",
    "command1 = \"awk '{print $1}' \" + nameoffile1 + \" > file1.txt\"\n",
    "command2 = \"awk '{print $1}' \" + nameoffile2 + \" > file2.txt\"\n",
    "\n",
    "subprocess.call(command1, shell=True)\n",
    "subprocess.call(command2, shell=True)\n",
    "\n",
    "file1 = open(\"file1.txt\", \"r\")\n",
    "file2 = open(\"file2.txt\", \"r\")\n",
    "\n",
    "data1 = file1.read()\n",
    "data2 = file2.read()\n",
    "\n",
    "list1 = data1.split(\"\\n\")\n",
    "list2 = data2.split(\"\\n\")\n",
    "\n",
    "print(\"Hace falta en el segundo archivo en referencia al primero\")\n",
    "print(list(set(list1)-set(list2)))\n",
    "print(\"Hace falta en el primer archivo en referencia al segundo\")\n",
    "print(list(set(list2)-set(list1)))"
   ]
  }
 ],
 "metadata": {
  "kernelspec": {
   "display_name": "Python 3 (ipykernel)",
   "language": "python",
   "name": "python3"
  },
  "language_info": {
   "codemirror_mode": {
    "name": "ipython",
    "version": 3
   },
   "file_extension": ".py",
   "mimetype": "text/x-python",
   "name": "python",
   "nbconvert_exporter": "python",
   "pygments_lexer": "ipython3",
   "version": "3.9.12"
  }
 },
 "nbformat": 4,
 "nbformat_minor": 5
}
